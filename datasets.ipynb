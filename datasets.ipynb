{
 "cells": [
  {
   "cell_type": "code",
   "execution_count": 11,
   "metadata": {},
   "outputs": [],
   "source": [
    "import torch\n",
    "import torchvision\n",
    "import matplotlib.pyplot as plt\n",
    "\n",
    "\n",
    "from tqdm import tqdm\n",
    "from PIL import Image, ImageFilter\n",
    "\n",
    "import os\n",
    "os.makedirs('./cifar10', exist_ok = True)\n",
    "os.makedirs('./cifar10_blur1', exist_ok = True)\n",
    "os.makedirs('./cifar10_blur3', exist_ok = True)\n",
    "os.makedirs('./cifar10_blur5', exist_ok = True)"
   ]
  },
  {
   "cell_type": "code",
   "execution_count": 12,
   "metadata": {},
   "outputs": [],
   "source": [
    "cifar10 = torchvision.datasets.CIFAR10('./')"
   ]
  },
  {
   "cell_type": "code",
   "execution_count": 13,
   "metadata": {},
   "outputs": [
    {
     "name": "stderr",
     "output_type": "stream",
     "text": [
      "1000it [00:00, 2664.30it/s]\n"
     ]
    }
   ],
   "source": [
    "for idx, data in tqdm(enumerate(cifar10)):\n",
    "    x, y  = data\n",
    "    x.save(f'./cifar10/{idx}.png')\n",
    "    if idx == 1000: break"
   ]
  },
  {
   "cell_type": "code",
   "execution_count": 14,
   "metadata": {},
   "outputs": [
    {
     "data": {
      "text/plain": [
       "10001"
      ]
     },
     "execution_count": 14,
     "metadata": {},
     "output_type": "execute_result"
    }
   ],
   "source": [
    "len(os.listdir('./cifar10'))"
   ]
  },
  {
   "cell_type": "code",
   "execution_count": null,
   "metadata": {},
   "outputs": [],
   "source": []
  },
  {
   "cell_type": "code",
   "execution_count": null,
   "metadata": {},
   "outputs": [],
   "source": []
  },
  {
   "cell_type": "code",
   "execution_count": null,
   "metadata": {},
   "outputs": [],
   "source": []
  },
  {
   "cell_type": "code",
   "execution_count": 15,
   "metadata": {},
   "outputs": [
    {
     "name": "stderr",
     "output_type": "stream",
     "text": [
      "1000it [00:00, 2302.48it/s]\n"
     ]
    }
   ],
   "source": [
    "for idx, data in tqdm(enumerate(cifar10)):\n",
    "    x, y  = data\n",
    "    x = x.filter(ImageFilter.MinFilter(1))\n",
    "    x.save(f'./cifar10_blur1/{idx}.png')\n",
    "    if idx == 1000: break"
   ]
  },
  {
   "cell_type": "code",
   "execution_count": 16,
   "metadata": {},
   "outputs": [
    {
     "name": "stderr",
     "output_type": "stream",
     "text": [
      "1000it [00:00, 1331.01it/s]\n",
      "1000it [00:01, 878.61it/s]\n"
     ]
    }
   ],
   "source": [
    "for idx, data in tqdm(enumerate(cifar10)):\n",
    "    x, y  = data\n",
    "    x = x.filter(ImageFilter.MinFilter(3))\n",
    "    x.save(f'./cifar10_blur3/{idx}.png')\n",
    "    if idx == 1000: break\n",
    "\n",
    "for idx, data in tqdm(enumerate(cifar10)):\n",
    "    x, y  = data\n",
    "    x = x.filter(ImageFilter.MinFilter(5))\n",
    "    x.save(f'./cifar10_blur5/{idx}.png')\n",
    "    if idx == 1000: break"
   ]
  },
  {
   "cell_type": "code",
   "execution_count": null,
   "metadata": {},
   "outputs": [],
   "source": []
  }
 ],
 "metadata": {
  "kernelspec": {
   "display_name": "fid",
   "language": "python",
   "name": "python3"
  },
  "language_info": {
   "codemirror_mode": {
    "name": "ipython",
    "version": 3
   },
   "file_extension": ".py",
   "mimetype": "text/x-python",
   "name": "python",
   "nbconvert_exporter": "python",
   "pygments_lexer": "ipython3",
   "version": "3.9.12"
  },
  "orig_nbformat": 4,
  "vscode": {
   "interpreter": {
    "hash": "c073840182d5d839f07958d12ffe2284ba04d81a2482bd5c117b856321d7373a"
   }
  }
 },
 "nbformat": 4,
 "nbformat_minor": 2
}
